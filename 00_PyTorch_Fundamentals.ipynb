{
  "nbformat": 4,
  "nbformat_minor": 0,
  "metadata": {
    "colab": {
      "provenance": [],
      "authorship_tag": "ABX9TyM4ruoAgMCOcnXq/neBXrdd",
      "include_colab_link": true
    },
    "kernelspec": {
      "name": "python3",
      "display_name": "Python 3"
    },
    "language_info": {
      "name": "python"
    },
    "gpuClass": "standard"
  },
  "cells": [
    {
      "cell_type": "markdown",
      "metadata": {
        "id": "view-in-github",
        "colab_type": "text"
      },
      "source": [
        "<a href=\"https://colab.research.google.com/github/abdullah90ir/AI_booklet_CE-AUT/blob/master/00_PyTorch_Fundamentals.ipynb\" target=\"_parent\"><img src=\"https://colab.research.google.com/assets/colab-badge.svg\" alt=\"Open In Colab\"/></a>"
      ]
    },
    {
      "cell_type": "code",
      "execution_count": 86,
      "metadata": {
        "id": "J3l9cIvSz051"
      },
      "outputs": [],
      "source": [
        "import torch\n",
        "import numpy as np\n",
        "import matplotlib.pyplot as plt\n",
        "import pandas as pd\n"
      ]
    },
    {
      "cell_type": "code",
      "source": [
        "#scalar \n",
        "scalar = torch.tensor(7)\n",
        "scalar"
      ],
      "metadata": {
        "colab": {
          "base_uri": "https://localhost:8080/"
        },
        "id": "B2Zqnc-y2sN4",
        "outputId": "3af34020-f3d4-47d1-af3a-58fd2dd38a4f"
      },
      "execution_count": 87,
      "outputs": [
        {
          "output_type": "execute_result",
          "data": {
            "text/plain": [
              "tensor(7)"
            ]
          },
          "metadata": {},
          "execution_count": 87
        }
      ]
    },
    {
      "cell_type": "code",
      "source": [
        "scalar.ndim\n"
      ],
      "metadata": {
        "colab": {
          "base_uri": "https://localhost:8080/"
        },
        "id": "4uGgTe0o3vFq",
        "outputId": "03c1455e-e9db-4d7a-fb36-1b8fb6bf7b64"
      },
      "execution_count": 88,
      "outputs": [
        {
          "output_type": "execute_result",
          "data": {
            "text/plain": [
              "0"
            ]
          },
          "metadata": {},
          "execution_count": 88
        }
      ]
    },
    {
      "cell_type": "code",
      "source": [
        "#vector \n",
        "vector = torch.tensor([6,6])\n",
        "vector"
      ],
      "metadata": {
        "colab": {
          "base_uri": "https://localhost:8080/"
        },
        "id": "9KSEqDEN5Wsc",
        "outputId": "c44f6ac3-1428-4e8f-de93-92b062d78484"
      },
      "execution_count": 89,
      "outputs": [
        {
          "output_type": "execute_result",
          "data": {
            "text/plain": [
              "tensor([6, 6])"
            ]
          },
          "metadata": {},
          "execution_count": 89
        }
      ]
    },
    {
      "cell_type": "code",
      "source": [
        "vector.ndim"
      ],
      "metadata": {
        "colab": {
          "base_uri": "https://localhost:8080/"
        },
        "id": "sH7q5qML5sof",
        "outputId": "6d3f445f-1853-44af-ca9f-9b69f190dfe1"
      },
      "execution_count": 90,
      "outputs": [
        {
          "output_type": "execute_result",
          "data": {
            "text/plain": [
              "1"
            ]
          },
          "metadata": {},
          "execution_count": 90
        }
      ]
    },
    {
      "cell_type": "code",
      "source": [
        "vector.shape"
      ],
      "metadata": {
        "colab": {
          "base_uri": "https://localhost:8080/"
        },
        "id": "cmu7ikKn5vuh",
        "outputId": "cb224482-4a3f-4a0c-bc6f-4e5c8e09ba43"
      },
      "execution_count": 91,
      "outputs": [
        {
          "output_type": "execute_result",
          "data": {
            "text/plain": [
              "torch.Size([2])"
            ]
          },
          "metadata": {},
          "execution_count": 91
        }
      ]
    },
    {
      "cell_type": "code",
      "source": [
        "#matrix\n",
        "matrix = torch.tensor([[4,5],\n",
        "                      [4,8]])\n",
        "matrix"
      ],
      "metadata": {
        "colab": {
          "base_uri": "https://localhost:8080/"
        },
        "id": "-hMaba446IUB",
        "outputId": "7a7cc0c2-b314-4d4a-d915-ef4f01f89452"
      },
      "execution_count": 92,
      "outputs": [
        {
          "output_type": "execute_result",
          "data": {
            "text/plain": [
              "tensor([[4, 5],\n",
              "        [4, 8]])"
            ]
          },
          "metadata": {},
          "execution_count": 92
        }
      ]
    },
    {
      "cell_type": "code",
      "source": [
        "matrix.ndim"
      ],
      "metadata": {
        "colab": {
          "base_uri": "https://localhost:8080/"
        },
        "id": "VeeIpgzK6f1O",
        "outputId": "54e598bf-795f-4c62-d76d-c793a8d2afe6"
      },
      "execution_count": 93,
      "outputs": [
        {
          "output_type": "execute_result",
          "data": {
            "text/plain": [
              "2"
            ]
          },
          "metadata": {},
          "execution_count": 93
        }
      ]
    },
    {
      "cell_type": "code",
      "source": [
        "matrix[0]"
      ],
      "metadata": {
        "colab": {
          "base_uri": "https://localhost:8080/"
        },
        "id": "fhWCIqZe6muO",
        "outputId": "c3c2b576-6e30-4e7f-cd39-ef22a8515822"
      },
      "execution_count": 94,
      "outputs": [
        {
          "output_type": "execute_result",
          "data": {
            "text/plain": [
              "tensor([4, 5])"
            ]
          },
          "metadata": {},
          "execution_count": 94
        }
      ]
    },
    {
      "cell_type": "code",
      "source": [
        "matrix.shape"
      ],
      "metadata": {
        "colab": {
          "base_uri": "https://localhost:8080/"
        },
        "id": "6iHAILM36wwr",
        "outputId": "c9842c6f-e96f-4307-efa9-00af8f449a18"
      },
      "execution_count": 95,
      "outputs": [
        {
          "output_type": "execute_result",
          "data": {
            "text/plain": [
              "torch.Size([2, 2])"
            ]
          },
          "metadata": {},
          "execution_count": 95
        }
      ]
    },
    {
      "cell_type": "code",
      "source": [
        "#tendsor\n",
        "tens = torch.tensor([[[1,2,8],\n",
        "                      [5,4,9],\n",
        "                      [5,3,7]]])\n",
        "tens"
      ],
      "metadata": {
        "colab": {
          "base_uri": "https://localhost:8080/"
        },
        "id": "dged-O7o61s2",
        "outputId": "e9721fde-5411-4b7c-be39-7b79b1110713"
      },
      "execution_count": 96,
      "outputs": [
        {
          "output_type": "execute_result",
          "data": {
            "text/plain": [
              "tensor([[[1, 2, 8],\n",
              "         [5, 4, 9],\n",
              "         [5, 3, 7]]])"
            ]
          },
          "metadata": {},
          "execution_count": 96
        }
      ]
    },
    {
      "cell_type": "code",
      "source": [
        "tens.ndim"
      ],
      "metadata": {
        "colab": {
          "base_uri": "https://localhost:8080/"
        },
        "id": "Zh0KeFBj7kg1",
        "outputId": "f2b21642-54e7-4928-f7e7-eca396f7c58f"
      },
      "execution_count": 97,
      "outputs": [
        {
          "output_type": "execute_result",
          "data": {
            "text/plain": [
              "3"
            ]
          },
          "metadata": {},
          "execution_count": 97
        }
      ]
    },
    {
      "cell_type": "code",
      "source": [
        "tens.shape"
      ],
      "metadata": {
        "colab": {
          "base_uri": "https://localhost:8080/"
        },
        "id": "2af-ABXg7qKz",
        "outputId": "c15069f1-8366-4824-a5d2-6e9972734927"
      },
      "execution_count": 98,
      "outputs": [
        {
          "output_type": "execute_result",
          "data": {
            "text/plain": [
              "torch.Size([1, 3, 3])"
            ]
          },
          "metadata": {},
          "execution_count": 98
        }
      ]
    },
    {
      "cell_type": "code",
      "source": [
        "#random \n",
        "rand = torch.rand(3,4)\n",
        "rand"
      ],
      "metadata": {
        "colab": {
          "base_uri": "https://localhost:8080/"
        },
        "id": "_JGiNqHE7tlV",
        "outputId": "399412a6-25f3-4ad0-cf40-44687f2fe428"
      },
      "execution_count": 99,
      "outputs": [
        {
          "output_type": "execute_result",
          "data": {
            "text/plain": [
              "tensor([[0.8964, 0.1595, 0.0377, 0.2455],\n",
              "        [0.8397, 0.9063, 0.8970, 0.2459],\n",
              "        [0.7250, 0.6529, 0.2734, 0.3842]])"
            ]
          },
          "metadata": {},
          "execution_count": 99
        }
      ]
    },
    {
      "cell_type": "code",
      "source": [
        "rand.ndim"
      ],
      "metadata": {
        "colab": {
          "base_uri": "https://localhost:8080/"
        },
        "id": "kXiySuXI_w-t",
        "outputId": "531429a2-3215-4479-d38d-b260cff91ef1"
      },
      "execution_count": 100,
      "outputs": [
        {
          "output_type": "execute_result",
          "data": {
            "text/plain": [
              "2"
            ]
          },
          "metadata": {},
          "execution_count": 100
        }
      ]
    },
    {
      "cell_type": "code",
      "source": [
        "#random_tensor\n",
        "rand_t = torch.rand(3,3,3)\n",
        "rand_t\n"
      ],
      "metadata": {
        "colab": {
          "base_uri": "https://localhost:8080/"
        },
        "id": "s_Q0z1bsAAmd",
        "outputId": "ed9ec25e-d76c-4b9d-ad4a-e30a9a2543a3"
      },
      "execution_count": 101,
      "outputs": [
        {
          "output_type": "execute_result",
          "data": {
            "text/plain": [
              "tensor([[[1.7476e-01, 1.9747e-01, 1.9815e-01],\n",
              "         [3.1791e-01, 1.2218e-01, 4.3679e-01],\n",
              "         [8.2375e-01, 3.5746e-01, 9.2544e-01]],\n",
              "\n",
              "        [[2.6643e-05, 2.8939e-01, 3.2344e-01],\n",
              "         [9.7265e-01, 6.9052e-01, 9.2893e-01],\n",
              "         [4.6539e-01, 1.5008e-01, 2.5788e-01]],\n",
              "\n",
              "        [[4.1753e-02, 4.1874e-01, 9.4083e-01],\n",
              "         [9.2417e-01, 1.5060e-01, 5.6544e-01],\n",
              "         [4.4443e-01, 9.5905e-02, 5.2497e-01]]])"
            ]
          },
          "metadata": {},
          "execution_count": 101
        }
      ]
    },
    {
      "cell_type": "code",
      "source": [
        "rand_t.shape"
      ],
      "metadata": {
        "colab": {
          "base_uri": "https://localhost:8080/"
        },
        "id": "APAQtLlSAY1Y",
        "outputId": "e060449a-91e3-4e5b-e75c-4684ae26401c"
      },
      "execution_count": 102,
      "outputs": [
        {
          "output_type": "execute_result",
          "data": {
            "text/plain": [
              "torch.Size([3, 3, 3])"
            ]
          },
          "metadata": {},
          "execution_count": 102
        }
      ]
    },
    {
      "cell_type": "code",
      "source": [
        "rand_t[2]\n"
      ],
      "metadata": {
        "colab": {
          "base_uri": "https://localhost:8080/"
        },
        "id": "sJfD1WO0AhaQ",
        "outputId": "e60157ed-b5fa-4ec4-a61f-8d391dae1a8e"
      },
      "execution_count": 103,
      "outputs": [
        {
          "output_type": "execute_result",
          "data": {
            "text/plain": [
              "tensor([[0.0418, 0.4187, 0.9408],\n",
              "        [0.9242, 0.1506, 0.5654],\n",
              "        [0.4444, 0.0959, 0.5250]])"
            ]
          },
          "metadata": {},
          "execution_count": 103
        }
      ]
    },
    {
      "cell_type": "code",
      "source": [
        "#range from number to another  with step\n",
        "torch.arange(0 , 10)"
      ],
      "metadata": {
        "colab": {
          "base_uri": "https://localhost:8080/"
        },
        "id": "qwdibdZsAsZy",
        "outputId": "6de6b002-d8c1-4881-ba35-40d610bce2f8"
      },
      "execution_count": 104,
      "outputs": [
        {
          "output_type": "execute_result",
          "data": {
            "text/plain": [
              "tensor([0, 1, 2, 3, 4, 5, 6, 7, 8, 9])"
            ]
          },
          "metadata": {},
          "execution_count": 104
        }
      ]
    },
    {
      "cell_type": "code",
      "source": [
        "torch.arange(start=0 , end=100 , step=20)"
      ],
      "metadata": {
        "colab": {
          "base_uri": "https://localhost:8080/"
        },
        "id": "8WIAZy9fgEEP",
        "outputId": "c49ff2ad-a04e-46ec-c4b0-59a8fee0b0e4"
      },
      "execution_count": 105,
      "outputs": [
        {
          "output_type": "execute_result",
          "data": {
            "text/plain": [
              "tensor([ 0, 20, 40, 60, 80])"
            ]
          },
          "metadata": {},
          "execution_count": 105
        }
      ]
    },
    {
      "cell_type": "code",
      "source": [
        "float_32_tensor = torch.tensor([3.0, 7.0, 9.0 ],\n",
        "                               dtype=None, #data type for tensor must chosen correcty\n",
        "                               device=None, #devices must chosen true on GPU or TPU or not\n",
        "                               requires_grad=False)# whether or not to track gradiants on this tensor or not\n",
        "float_32_tensor.dtype                            \n"
      ],
      "metadata": {
        "colab": {
          "base_uri": "https://localhost:8080/"
        },
        "id": "fnxo4xMXgxOi",
        "outputId": "dac51da1-45a4-4f66-8caf-69720b67496b"
      },
      "execution_count": 106,
      "outputs": [
        {
          "output_type": "execute_result",
          "data": {
            "text/plain": [
              "torch.float32"
            ]
          },
          "metadata": {},
          "execution_count": 106
        }
      ]
    },
    {
      "cell_type": "code",
      "source": [
        "#convert the tensors to another dtype\n",
        "float_16_tensor = float_32_tensor.type(torch.float16)\n",
        "float_16_tensor"
      ],
      "metadata": {
        "colab": {
          "base_uri": "https://localhost:8080/"
        },
        "id": "aZbvlMpQm6xG",
        "outputId": "d495186f-6cfc-4833-b250-bb7368481e2e"
      },
      "execution_count": 107,
      "outputs": [
        {
          "output_type": "execute_result",
          "data": {
            "text/plain": [
              "tensor([3., 7., 9.], dtype=torch.float16)"
            ]
          },
          "metadata": {},
          "execution_count": 107
        }
      ]
    },
    {
      "cell_type": "markdown",
      "source": [
        "## tensors operatiopn\n",
        "  ### -Addition\n",
        "  ### -Subtractiong\n",
        "  ### -Multiplication\n",
        "  ### -Division\n",
        "  ### -Matrix Multiplication\n",
        "\n",
        "\n"
      ],
      "metadata": {
        "id": "9I_7FDe3pcEW"
      }
    },
    {
      "cell_type": "code",
      "source": [
        "#crteat tensor \n",
        "tens = torch.tensor([1, 2, 4, 7])\n",
        "tens + 10  #Add 10 to tensor"
      ],
      "metadata": {
        "colab": {
          "base_uri": "https://localhost:8080/"
        },
        "id": "7yAK4K04plbG",
        "outputId": "2f312aab-8e59-4f07-aa17-fdec845a0d2b"
      },
      "execution_count": 108,
      "outputs": [
        {
          "output_type": "execute_result",
          "data": {
            "text/plain": [
              "tensor([11, 12, 14, 17])"
            ]
          },
          "metadata": {},
          "execution_count": 108
        }
      ]
    },
    {
      "cell_type": "code",
      "source": [
        "#multi. by 10\n",
        "tens *10"
      ],
      "metadata": {
        "colab": {
          "base_uri": "https://localhost:8080/"
        },
        "id": "0JUkLi9Kqkkr",
        "outputId": "65d4e5db-26d5-4b91-8a56-8c324c5f3071"
      },
      "execution_count": 109,
      "outputs": [
        {
          "output_type": "execute_result",
          "data": {
            "text/plain": [
              "tensor([10, 20, 40, 70])"
            ]
          },
          "metadata": {},
          "execution_count": 109
        }
      ]
    },
    {
      "cell_type": "code",
      "source": [
        "#Sub. by 10\n",
        "tens -10"
      ],
      "metadata": {
        "colab": {
          "base_uri": "https://localhost:8080/"
        },
        "id": "CToKjF6Kqy8X",
        "outputId": "c383a610-0153-4d15-90b4-411d02833e4f"
      },
      "execution_count": 110,
      "outputs": [
        {
          "output_type": "execute_result",
          "data": {
            "text/plain": [
              "tensor([-9, -8, -6, -3])"
            ]
          },
          "metadata": {},
          "execution_count": 110
        }
      ]
    },
    {
      "cell_type": "code",
      "source": [
        "#matrix Multiplication{tensor * tensor}\n",
        "print(f\"The matrix multiplication : {tens * tens}\")"
      ],
      "metadata": {
        "colab": {
          "base_uri": "https://localhost:8080/"
        },
        "id": "PrzGdT2nrF1g",
        "outputId": "be1c98f7-6ea3-4bff-9140-089b8f3cfc66"
      },
      "execution_count": 111,
      "outputs": [
        {
          "output_type": "stream",
          "name": "stdout",
          "text": [
            "The matrix multiplication : tensor([ 1,  4, 16, 49])\n"
          ]
        }
      ]
    },
    {
      "cell_type": "code",
      "source": [
        "#nother way for matrix mul from torch \n",
        "torch.matmul(tens , tens)"
      ],
      "metadata": {
        "colab": {
          "base_uri": "https://localhost:8080/"
        },
        "id": "FC_IXkEYsVxa",
        "outputId": "dfb5662c-104b-4690-ea4b-8a0cd2fee1b0"
      },
      "execution_count": 112,
      "outputs": [
        {
          "output_type": "execute_result",
          "data": {
            "text/plain": [
              "tensor(70)"
            ]
          },
          "metadata": {},
          "execution_count": 112
        }
      ]
    },
    {
      "cell_type": "code",
      "source": [
        "# to fix the shape or dim for matrix multiplication we need to make it transpose\n",
        "#transpose make the matrix time we can use .T\n",
        "tens_A = torch.tensor([[32, 51, 12],\n",
        "                       [27, 0, 1]])\n",
        "\n",
        "tens_B = torch.tensor([[2, 3, 4],\n",
        "                       [5, 5, 9]])"
      ],
      "metadata": {
        "id": "QaBqEeyNs3qg"
      },
      "execution_count": 113,
      "outputs": []
    },
    {
      "cell_type": "code",
      "source": [
        "torch.matmul(tens_A, tens_B)"
      ],
      "metadata": {
        "colab": {
          "base_uri": "https://localhost:8080/",
          "height": 165
        },
        "id": "726nkq6hvYHX",
        "outputId": "1a07c163-d01b-407a-d10a-f21cab08ea6e"
      },
      "execution_count": 114,
      "outputs": [
        {
          "output_type": "error",
          "ename": "RuntimeError",
          "evalue": "ignored",
          "traceback": [
            "\u001b[0;31m---------------------------------------------------------------------------\u001b[0m",
            "\u001b[0;31mRuntimeError\u001b[0m                              Traceback (most recent call last)",
            "\u001b[0;32m<ipython-input-114-67cda98cbc67>\u001b[0m in \u001b[0;36m<cell line: 1>\u001b[0;34m()\u001b[0m\n\u001b[0;32m----> 1\u001b[0;31m \u001b[0mtorch\u001b[0m\u001b[0;34m.\u001b[0m\u001b[0mmatmul\u001b[0m\u001b[0;34m(\u001b[0m\u001b[0mtens_A\u001b[0m\u001b[0;34m,\u001b[0m \u001b[0mtens_B\u001b[0m\u001b[0;34m)\u001b[0m\u001b[0;34m\u001b[0m\u001b[0;34m\u001b[0m\u001b[0m\n\u001b[0m",
            "\u001b[0;31mRuntimeError\u001b[0m: mat1 and mat2 shapes cannot be multiplied (2x3 and 2x3)"
          ]
        }
      ]
    },
    {
      "cell_type": "code",
      "source": [
        "#as we seen the error about the shape (2x3 and 2x3) we need to transpose\n",
        "#one of them to become correct (2x3 and 3x2)\n",
        "#let transpose tens_B\n",
        "\n",
        "tens_B.T , tens_B.T.shape"
      ],
      "metadata": {
        "colab": {
          "base_uri": "https://localhost:8080/"
        },
        "id": "O7v6jndQwYJf",
        "outputId": "4aad8cd7-096b-4d1a-9512-40533ea8be8a"
      },
      "execution_count": 115,
      "outputs": [
        {
          "output_type": "execute_result",
          "data": {
            "text/plain": [
              "(tensor([[2, 5],\n",
              "         [3, 5],\n",
              "         [4, 9]]),\n",
              " torch.Size([3, 2]))"
            ]
          },
          "metadata": {},
          "execution_count": 115
        }
      ]
    },
    {
      "cell_type": "code",
      "source": [
        "#Now let do it again (2x3 and 3x2) the result be (2x2)\n",
        "torch.matmul(tens_A, tens_B.T)"
      ],
      "metadata": {
        "colab": {
          "base_uri": "https://localhost:8080/"
        },
        "id": "SMUO3qEPxFB2",
        "outputId": "db15a728-57a6-4879-ecf2-4d49dceec4c5"
      },
      "execution_count": 116,
      "outputs": [
        {
          "output_type": "execute_result",
          "data": {
            "text/plain": [
              "tensor([[265, 523],\n",
              "        [ 58, 144]])"
            ]
          },
          "metadata": {},
          "execution_count": 116
        }
      ]
    },
    {
      "cell_type": "markdown",
      "source": [
        "\n",
        "\n",
        "### Finding Min , Max , Sum, Mean (aggregation)\n",
        "\n"
      ],
      "metadata": {
        "id": "yTOZELc3y1q8"
      }
    },
    {
      "cell_type": "code",
      "source": [
        "x = torch.arange(1,100,10)\n",
        "x"
      ],
      "metadata": {
        "colab": {
          "base_uri": "https://localhost:8080/"
        },
        "id": "FshZUAdOzCxN",
        "outputId": "b4f4283b-52f4-4267-ff6a-f82ce8cb8ec5"
      },
      "execution_count": 117,
      "outputs": [
        {
          "output_type": "execute_result",
          "data": {
            "text/plain": [
              "tensor([ 1, 11, 21, 31, 41, 51, 61, 71, 81, 91])"
            ]
          },
          "metadata": {},
          "execution_count": 117
        }
      ]
    },
    {
      "cell_type": "code",
      "source": [
        "#finding Min , Max\n",
        "torch.min(x) , torch.max(x)"
      ],
      "metadata": {
        "colab": {
          "base_uri": "https://localhost:8080/"
        },
        "id": "VWDdje4JzMTU",
        "outputId": "8f172140-4e91-4bdd-95aa-3cea52e70478"
      },
      "execution_count": 118,
      "outputs": [
        {
          "output_type": "execute_result",
          "data": {
            "text/plain": [
              "(tensor(1), tensor(91))"
            ]
          },
          "metadata": {},
          "execution_count": 118
        }
      ]
    },
    {
      "cell_type": "code",
      "source": [
        "#finding the Mean \n",
        "torch.mean(x)"
      ],
      "metadata": {
        "colab": {
          "base_uri": "https://localhost:8080/",
          "height": 200
        },
        "id": "L_LjFRAWzdSG",
        "outputId": "efc6785a-586d-48bb-a24b-fa950659e0ff"
      },
      "execution_count": 119,
      "outputs": [
        {
          "output_type": "error",
          "ename": "RuntimeError",
          "evalue": "ignored",
          "traceback": [
            "\u001b[0;31m---------------------------------------------------------------------------\u001b[0m",
            "\u001b[0;31mRuntimeError\u001b[0m                              Traceback (most recent call last)",
            "\u001b[0;32m<ipython-input-119-a453003cab83>\u001b[0m in \u001b[0;36m<cell line: 2>\u001b[0;34m()\u001b[0m\n\u001b[1;32m      1\u001b[0m \u001b[0;31m#finding the Mean\u001b[0m\u001b[0;34m\u001b[0m\u001b[0;34m\u001b[0m\u001b[0m\n\u001b[0;32m----> 2\u001b[0;31m \u001b[0mtorch\u001b[0m\u001b[0;34m.\u001b[0m\u001b[0mmean\u001b[0m\u001b[0;34m(\u001b[0m\u001b[0mx\u001b[0m\u001b[0;34m)\u001b[0m\u001b[0;34m\u001b[0m\u001b[0;34m\u001b[0m\u001b[0m\n\u001b[0m",
            "\u001b[0;31mRuntimeError\u001b[0m: mean(): could not infer output dtype. Input dtype must be either a floating point or complex dtype. Got: Long"
          ]
        }
      ]
    },
    {
      "cell_type": "code",
      "source": [
        "#error wwith dtype\n",
        "x.dtype"
      ],
      "metadata": {
        "colab": {
          "base_uri": "https://localhost:8080/"
        },
        "id": "yj8cgnsxzqbI",
        "outputId": "a9d2673c-2631-4a58-f1f3-536f20799a6e"
      },
      "execution_count": 120,
      "outputs": [
        {
          "output_type": "execute_result",
          "data": {
            "text/plain": [
              "torch.int64"
            ]
          },
          "metadata": {},
          "execution_count": 120
        }
      ]
    },
    {
      "cell_type": "code",
      "source": [
        "#let coorect it to 32 bit and after that take the Mean out\n",
        "torch.mean(x.type(torch.float32))"
      ],
      "metadata": {
        "colab": {
          "base_uri": "https://localhost:8080/"
        },
        "id": "guf6rXkU0APV",
        "outputId": "335aa3e8-eecf-4bcf-e593-b05081429025"
      },
      "execution_count": 121,
      "outputs": [
        {
          "output_type": "execute_result",
          "data": {
            "text/plain": [
              "tensor(46.)"
            ]
          },
          "metadata": {},
          "execution_count": 121
        }
      ]
    },
    {
      "cell_type": "code",
      "source": [
        "#finding the sum of tensors\n",
        "torch.sum(x)"
      ],
      "metadata": {
        "colab": {
          "base_uri": "https://localhost:8080/"
        },
        "id": "ZQyNWYRK0dXU",
        "outputId": "604c2587-d276-4946-b447-56c1d6a19ada"
      },
      "execution_count": 122,
      "outputs": [
        {
          "output_type": "execute_result",
          "data": {
            "text/plain": [
              "tensor(460)"
            ]
          },
          "metadata": {},
          "execution_count": 122
        }
      ]
    },
    {
      "cell_type": "code",
      "source": [
        "#Let find the index locations of aggregation\n",
        "#let find the location of min , max \n",
        "x.argmin() , x.argmax(), x"
      ],
      "metadata": {
        "colab": {
          "base_uri": "https://localhost:8080/"
        },
        "id": "rV3L8GIz0w8X",
        "outputId": "a49713df-ea47-4d3a-89f7-8ac726d9fbc7"
      },
      "execution_count": 123,
      "outputs": [
        {
          "output_type": "execute_result",
          "data": {
            "text/plain": [
              "(tensor(0), tensor(9), tensor([ 1, 11, 21, 31, 41, 51, 61, 71, 81, 91]))"
            ]
          },
          "metadata": {},
          "execution_count": 123
        }
      ]
    },
    {
      "cell_type": "code",
      "source": [
        "x[0] , x[9]"
      ],
      "metadata": {
        "colab": {
          "base_uri": "https://localhost:8080/"
        },
        "id": "vuwbFrPt1baH",
        "outputId": "26254e13-a715-4ac7-f4ff-410114fcd9a2"
      },
      "execution_count": 124,
      "outputs": [
        {
          "output_type": "execute_result",
          "data": {
            "text/plain": [
              "(tensor(1), tensor(91))"
            ]
          },
          "metadata": {},
          "execution_count": 124
        }
      ]
    },
    {
      "cell_type": "markdown",
      "source": [
        "#### Reshaping , stacking , squeezing , unsqueezing"
      ],
      "metadata": {
        "id": "vdh-lEA63UhH"
      }
    },
    {
      "cell_type": "code",
      "source": [
        "z = torch.arange(0. , 10.)\n",
        "z, z.shape"
      ],
      "metadata": {
        "colab": {
          "base_uri": "https://localhost:8080/"
        },
        "id": "X7iwtFHJ3pMe",
        "outputId": "ccbf3439-02e3-4855-c9e7-0a355cd8c366"
      },
      "execution_count": 125,
      "outputs": [
        {
          "output_type": "execute_result",
          "data": {
            "text/plain": [
              "(tensor([0., 1., 2., 3., 4., 5., 6., 7., 8., 9.]), torch.Size([10]))"
            ]
          },
          "metadata": {},
          "execution_count": 125
        }
      ]
    },
    {
      "cell_type": "code",
      "source": [
        "#Adding extra dimintion\n",
        "z_reshape = z.reshape(10 , 1)\n",
        "z_reshape , z_reshape.shape"
      ],
      "metadata": {
        "colab": {
          "base_uri": "https://localhost:8080/"
        },
        "id": "Nm_NVfi3347f",
        "outputId": "55d0bdbb-26f2-4431-a870-c155591d0e19"
      },
      "execution_count": 126,
      "outputs": [
        {
          "output_type": "execute_result",
          "data": {
            "text/plain": [
              "(tensor([[0.],\n",
              "         [1.],\n",
              "         [2.],\n",
              "         [3.],\n",
              "         [4.],\n",
              "         [5.],\n",
              "         [6.],\n",
              "         [7.],\n",
              "         [8.],\n",
              "         [9.]]),\n",
              " torch.Size([10, 1]))"
            ]
          },
          "metadata": {},
          "execution_count": 126
        }
      ]
    },
    {
      "cell_type": "code",
      "source": [
        "#change the view with the same elements \n",
        "z_reshape = z.reshape(5 , 2)\n",
        "z_reshape , z_reshape.shape"
      ],
      "metadata": {
        "colab": {
          "base_uri": "https://localhost:8080/"
        },
        "id": "8qGGr5HV4n87",
        "outputId": "6e3e44a4-b2d0-4ccd-b9e8-f84ff1906b63"
      },
      "execution_count": 127,
      "outputs": [
        {
          "output_type": "execute_result",
          "data": {
            "text/plain": [
              "(tensor([[0., 1.],\n",
              "         [2., 3.],\n",
              "         [4., 5.],\n",
              "         [6., 7.],\n",
              "         [8., 9.]]),\n",
              " torch.Size([5, 2]))"
            ]
          },
          "metadata": {},
          "execution_count": 127
        }
      ]
    },
    {
      "cell_type": "code",
      "source": [
        "#another change view by \n",
        "y = z.view(1,10)\n",
        "y"
      ],
      "metadata": {
        "colab": {
          "base_uri": "https://localhost:8080/"
        },
        "id": "WAzwpEFL5llU",
        "outputId": "f0c5f697-2796-4e8a-f11c-556919e3bfb1"
      },
      "execution_count": 133,
      "outputs": [
        {
          "output_type": "execute_result",
          "data": {
            "text/plain": [
              "tensor([[0., 1., 2., 3., 4., 5., 6., 7., 8., 9.]])"
            ]
          },
          "metadata": {},
          "execution_count": 133
        }
      ]
    },
    {
      "cell_type": "code",
      "source": [
        "#stack the tensor on the top of eachother dim 1 changing virtical or horizantal\n",
        "x_stack = torch.stack([z,z,z,z,z],dim=1)\n",
        "x_stack"
      ],
      "metadata": {
        "colab": {
          "base_uri": "https://localhost:8080/"
        },
        "id": "_5tXk19KKlt3",
        "outputId": "91447bf8-326c-49d4-ff36-9a110c213f71"
      },
      "execution_count": 139,
      "outputs": [
        {
          "output_type": "execute_result",
          "data": {
            "text/plain": [
              "tensor([[0., 0., 0., 0., 0.],\n",
              "        [1., 1., 1., 1., 1.],\n",
              "        [2., 2., 2., 2., 2.],\n",
              "        [3., 3., 3., 3., 3.],\n",
              "        [4., 4., 4., 4., 4.],\n",
              "        [5., 5., 5., 5., 5.],\n",
              "        [6., 6., 6., 6., 6.],\n",
              "        [7., 7., 7., 7., 7.],\n",
              "        [8., 8., 8., 8., 8.],\n",
              "        [9., 9., 9., 9., 9.]])"
            ]
          },
          "metadata": {},
          "execution_count": 139
        }
      ]
    },
    {
      "cell_type": "code",
      "source": [
        "#squeeze  can useing the function of torch.squeeze() the dim from 2dim to single dim\n",
        "y.squeeze(0).shape"
      ],
      "metadata": {
        "colab": {
          "base_uri": "https://localhost:8080/"
        },
        "id": "FKA-QjhTLnII",
        "outputId": "8b7e76a6-486f-4544-de4b-387a50737e9b"
      },
      "execution_count": 157,
      "outputs": [
        {
          "output_type": "execute_result",
          "data": {
            "text/plain": [
              "torch.Size([10])"
            ]
          },
          "metadata": {},
          "execution_count": 157
        }
      ]
    },
    {
      "cell_type": "code",
      "source": [
        "y.unsqueeze(0).shape"
      ],
      "metadata": {
        "colab": {
          "base_uri": "https://localhost:8080/"
        },
        "id": "9canuszsNMMy",
        "outputId": "7b2c8343-00d6-44e3-e82e-60b614069eb0"
      },
      "execution_count": 165,
      "outputs": [
        {
          "output_type": "execute_result",
          "data": {
            "text/plain": [
              "torch.Size([1, 1, 10])"
            ]
          },
          "metadata": {},
          "execution_count": 165
        }
      ]
    },
    {
      "cell_type": "code",
      "source": [
        "#permute rearrange the dim of tensors le test \n",
        "k_orginal = torch.rand(224, 224, 3)#image shape (hight,width,color channel)\n",
        "\n",
        "k_permute = k_orginal.permute(2, 0, 1)#rearrange image(3, 224, 224)\n",
        "k_permute"
      ],
      "metadata": {
        "colab": {
          "base_uri": "https://localhost:8080/"
        },
        "id": "v0l_PDHEOl9q",
        "outputId": "95783e19-197b-4d4c-93fc-6418c94935f9"
      },
      "execution_count": 167,
      "outputs": [
        {
          "output_type": "execute_result",
          "data": {
            "text/plain": [
              "tensor([[[0.3337, 0.4979, 0.3855,  ..., 0.4544, 0.0954, 0.4948],\n",
              "         [0.8889, 0.8386, 0.0531,  ..., 0.2035, 0.7886, 0.6656],\n",
              "         [0.0241, 0.4775, 0.0340,  ..., 0.5523, 0.8633, 0.1067],\n",
              "         ...,\n",
              "         [0.6897, 0.5044, 0.7362,  ..., 0.4811, 0.0050, 0.7258],\n",
              "         [0.8486, 0.9421, 0.5485,  ..., 0.1749, 0.7414, 0.6847],\n",
              "         [0.0232, 0.2707, 0.1829,  ..., 0.3487, 0.3294, 0.5998]],\n",
              "\n",
              "        [[0.9590, 0.8918, 0.4176,  ..., 0.6574, 0.1641, 0.6716],\n",
              "         [0.4911, 0.4880, 0.2955,  ..., 0.5824, 0.7055, 0.8556],\n",
              "         [0.0447, 0.7779, 0.3782,  ..., 0.9606, 0.2304, 0.3000],\n",
              "         ...,\n",
              "         [0.2529, 0.5356, 0.8028,  ..., 0.8889, 0.2059, 0.6577],\n",
              "         [0.8434, 0.1785, 0.6900,  ..., 0.5944, 0.7017, 0.6271],\n",
              "         [0.9417, 0.3582, 0.9332,  ..., 0.3675, 0.0373, 0.2958]],\n",
              "\n",
              "        [[0.0064, 0.1968, 0.9484,  ..., 0.7793, 0.6534, 0.2577],\n",
              "         [0.7004, 0.5824, 0.5893,  ..., 0.2309, 0.3283, 0.1896],\n",
              "         [0.3657, 0.1041, 0.8165,  ..., 0.5357, 0.1227, 0.1510],\n",
              "         ...,\n",
              "         [0.3785, 0.6181, 0.4713,  ..., 0.4299, 0.2295, 0.1821],\n",
              "         [0.6989, 0.5288, 0.3080,  ..., 0.8736, 0.3602, 0.0148],\n",
              "         [0.0582, 0.7590, 0.4581,  ..., 0.3479, 0.8654, 0.9955]]])"
            ]
          },
          "metadata": {},
          "execution_count": 167
        }
      ]
    },
    {
      "cell_type": "code",
      "source": [
        "k_orginal.shape ,k_permute.shape "
      ],
      "metadata": {
        "colab": {
          "base_uri": "https://localhost:8080/"
        },
        "id": "lrxvQCZqRT9M",
        "outputId": "cbd90224-18ef-4a1b-e560-bf54b44ae050"
      },
      "execution_count": 169,
      "outputs": [
        {
          "output_type": "execute_result",
          "data": {
            "text/plain": [
              "(torch.Size([224, 224, 3]), torch.Size([3, 224, 224]))"
            ]
          },
          "metadata": {},
          "execution_count": 169
        }
      ]
    },
    {
      "cell_type": "code",
      "source": [
        "#selecting data from tensors (its similar like numpy)\n",
        "idx = torch.arange(1,10).reshape(1 , 3, 3)\n",
        "idx"
      ],
      "metadata": {
        "colab": {
          "base_uri": "https://localhost:8080/"
        },
        "id": "qcxaiaazen-W",
        "outputId": "6965df6a-f796-4ec9-f0e3-af653ed1fc14"
      },
      "execution_count": 174,
      "outputs": [
        {
          "output_type": "execute_result",
          "data": {
            "text/plain": [
              "tensor([[[1, 2, 3],\n",
              "         [4, 5, 6],\n",
              "         [7, 8, 9]]])"
            ]
          },
          "metadata": {},
          "execution_count": 174
        }
      ]
    },
    {
      "cell_type": "code",
      "source": [
        "idx[0]"
      ],
      "metadata": {
        "colab": {
          "base_uri": "https://localhost:8080/"
        },
        "id": "_8JRMoKufHAw",
        "outputId": "44bed7c8-4c08-4c3e-9b87-7c4cef92b29d"
      },
      "execution_count": 175,
      "outputs": [
        {
          "output_type": "execute_result",
          "data": {
            "text/plain": [
              "tensor([[1, 2, 3],\n",
              "        [4, 5, 6],\n",
              "        [7, 8, 9]])"
            ]
          },
          "metadata": {},
          "execution_count": 175
        }
      ]
    },
    {
      "cell_type": "code",
      "source": [
        "#index first bracket\n",
        "idx[0][0]"
      ],
      "metadata": {
        "colab": {
          "base_uri": "https://localhost:8080/"
        },
        "id": "W9uoEtGcghf-",
        "outputId": "57c09965-df0d-4e22-a9a1-0dfb96580d9e"
      },
      "execution_count": 177,
      "outputs": [
        {
          "output_type": "execute_result",
          "data": {
            "text/plain": [
              "tensor([1, 2, 3])"
            ]
          },
          "metadata": {},
          "execution_count": 177
        }
      ]
    },
    {
      "cell_type": "code",
      "source": [
        "#index first element from first bracket\n",
        "idx[0][0][0] , idx[0][2][2]"
      ],
      "metadata": {
        "colab": {
          "base_uri": "https://localhost:8080/"
        },
        "id": "boCpwy8ggpFb",
        "outputId": "d6f8db14-d854-454d-803e-0c7af019ea7c"
      },
      "execution_count": 184,
      "outputs": [
        {
          "output_type": "execute_result",
          "data": {
            "text/plain": [
              "(tensor(1), tensor(9))"
            ]
          },
          "metadata": {},
          "execution_count": 184
        }
      ]
    },
    {
      "cell_type": "code",
      "source": [
        "  #index all of target by \": \"\n",
        "idx[:,0]"
      ],
      "metadata": {
        "colab": {
          "base_uri": "https://localhost:8080/"
        },
        "id": "eGhkIZ2zhH3z",
        "outputId": "effb1a62-33e4-431b-d291-c4f7638fc2da"
      },
      "execution_count": 186,
      "outputs": [
        {
          "output_type": "execute_result",
          "data": {
            "text/plain": [
              "tensor([[1, 2, 3]])"
            ]
          },
          "metadata": {},
          "execution_count": 186
        }
      ]
    },
    {
      "cell_type": "code",
      "source": [
        "#index all of 0th and 1st dim but only index 1 of 2nd dim\n",
        "idx[:, :, 1]"
      ],
      "metadata": {
        "colab": {
          "base_uri": "https://localhost:8080/"
        },
        "id": "48Z4VGDniBql",
        "outputId": "e6486c58-2b25-470c-d719-97ccb2cdf989"
      },
      "execution_count": 190,
      "outputs": [
        {
          "output_type": "execute_result",
          "data": {
            "text/plain": [
              "tensor([[2, 5, 8]])"
            ]
          },
          "metadata": {},
          "execution_count": 190
        }
      ]
    },
    {
      "cell_type": "code",
      "source": [
        "#all of the 0th dim but only 1 index value of 1st and 2nd dim \n",
        "idx[:, 1,1] , idx[:, 1,2]"
      ],
      "metadata": {
        "colab": {
          "base_uri": "https://localhost:8080/"
        },
        "id": "h7lgd-Cpirlq",
        "outputId": "7baeaf9f-193e-4a75-b535-90f1ac604324"
      },
      "execution_count": 194,
      "outputs": [
        {
          "output_type": "execute_result",
          "data": {
            "text/plain": [
              "(tensor([5]), tensor([6]))"
            ]
          },
          "metadata": {},
          "execution_count": 194
        }
      ]
    },
    {
      "cell_type": "markdown",
      "source": [
        "### numpy and tensor in pytorch"
      ],
      "metadata": {
        "id": "x2zJE3p9lvBR"
      }
    },
    {
      "cell_type": "code",
      "source": [
        "array = np.arange(1.0, 10.0)\n",
        "tensor = torch.from_numpy(array)#changing from numpy to tensor\n",
        "array , tensor"
      ],
      "metadata": {
        "colab": {
          "base_uri": "https://localhost:8080/"
        },
        "id": "62DxtvmRl_TY",
        "outputId": "bbcb6ef4-99b0-4448-9d9f-aef5a6997cdb"
      },
      "execution_count": 199,
      "outputs": [
        {
          "output_type": "execute_result",
          "data": {
            "text/plain": [
              "(array([1., 2., 3., 4., 5., 6., 7., 8., 9.]),\n",
              " tensor([1., 2., 3., 4., 5., 6., 7., 8., 9.], dtype=torch.float64))"
            ]
          },
          "metadata": {},
          "execution_count": 199
        }
      ]
    },
    {
      "cell_type": "code",
      "source": [
        "array.dtype , tensor.dtype"
      ],
      "metadata": {
        "colab": {
          "base_uri": "https://localhost:8080/"
        },
        "id": "E6dtP9AUmQL4",
        "outputId": "47871fe5-9c93-448f-8d9e-223af16845c1"
      },
      "execution_count": 200,
      "outputs": [
        {
          "output_type": "execute_result",
          "data": {
            "text/plain": [
              "(dtype('float64'), torch.float64)"
            ]
          },
          "metadata": {},
          "execution_count": 200
        }
      ]
    },
    {
      "cell_type": "code",
      "source": [
        "#changing from tesor to numpy {  tensor.torch.numpy()  }\n",
        "tt = torch.ones(7)\n",
        "arr = tt.numpy()\n",
        "tt , arr"
      ],
      "metadata": {
        "colab": {
          "base_uri": "https://localhost:8080/"
        },
        "id": "dVmQjWp3m8fp",
        "outputId": "1e2c0f99-1030-4d24-e977-5914574f3e9e"
      },
      "execution_count": 202,
      "outputs": [
        {
          "output_type": "execute_result",
          "data": {
            "text/plain": [
              "(tensor([1., 1., 1., 1., 1., 1., 1.]),\n",
              " array([1., 1., 1., 1., 1., 1., 1.], dtype=float32))"
            ]
          },
          "metadata": {},
          "execution_count": 202
        }
      ]
    },
    {
      "cell_type": "code",
      "source": [
        "tt.dtype , arr.dtype #just cheack the data type when changing to avoid the errors"
      ],
      "metadata": {
        "colab": {
          "base_uri": "https://localhost:8080/"
        },
        "id": "Wa3RgTzHoMMB",
        "outputId": "900d7290-2304-40e2-9541-1ec1bce274c9"
      },
      "execution_count": 205,
      "outputs": [
        {
          "output_type": "execute_result",
          "data": {
            "text/plain": [
              "(torch.float32, dtype('float32'))"
            ]
          },
          "metadata": {},
          "execution_count": 205
        }
      ]
    },
    {
      "cell_type": "markdown",
      "source": [
        "#### repreduceble random اعاده تولید نفس الارقام العشوائيه"
      ],
      "metadata": {
        "id": "0fi_Tvt2qqkb"
      }
    },
    {
      "cell_type": "markdown",
      "source": [
        "#### reproudect the same random number by using SEED"
      ],
      "metadata": {
        "id": "9jH55TQXrDcE"
      }
    },
    {
      "cell_type": "code",
      "source": [
        "#random seed to prodect same number\n",
        "rand_seed = 43\n",
        "torch.manual_seed(rand_seed)\n",
        "tens1 = torch.rand(3, 4)\n",
        "\n",
        "torch.manual_seed(rand_seed)#we have to use it evrytime on tensor\n",
        "tens2 = torch.rand(3, 4)\n",
        "\n",
        "print(tens1)\n",
        "print(tens1 == tens2)\n",
        "print(tens2)\n",
        "\n",
        "#we proudect the same random number"
      ],
      "metadata": {
        "colab": {
          "base_uri": "https://localhost:8080/"
        },
        "id": "R3oAczV-oXZB",
        "outputId": "cb4919d5-f6bb-40da-a3bb-3abc4492d215"
      },
      "execution_count": 208,
      "outputs": [
        {
          "output_type": "stream",
          "name": "stdout",
          "text": [
            "tensor([[0.4540, 0.1965, 0.9210, 0.3462],\n",
            "        [0.1481, 0.0858, 0.5909, 0.0659],\n",
            "        [0.7476, 0.6253, 0.9392, 0.1338]])\n",
            "tensor([[True, True, True, True],\n",
            "        [True, True, True, True],\n",
            "        [True, True, True, True]])\n",
            "tensor([[0.4540, 0.1965, 0.9210, 0.3462],\n",
            "        [0.1481, 0.0858, 0.5909, 0.0659],\n",
            "        [0.7476, 0.6253, 0.9392, 0.1338]])\n"
          ]
        }
      ]
    },
    {
      "cell_type": "code",
      "source": [],
      "metadata": {
        "id": "5BhxNFVSsHyg"
      },
      "execution_count": null,
      "outputs": []
    }
  ]
}